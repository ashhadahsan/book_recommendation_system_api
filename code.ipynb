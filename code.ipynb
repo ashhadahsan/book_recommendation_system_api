{
 "cells": [
  {
   "cell_type": "code",
   "execution_count": 1,
   "metadata": {},
   "outputs": [],
   "source": [
    "import sqlite3\n",
    "import pandas as pd\n",
    "def get_large_url(text):\n",
    "    replacement=text.split(\"/\")[-2].replace(\"s\",\"l\")\n",
    "    replacement=text.split(\"/\")[-2].replace(\"s\",\"l\")\n",
    "    url=text.split(\"/\")\n",
    "    url[-2]=replacement\n",
    "    return \"/\".join(url)\n",
    "con=sqlite3.connect(\"database.db\")\n",
    "cur=con.cursor()\n",
    "books= pd.read_sql('SELECT * FROM books', con)\n",
    "books['large_image_url']=books['small_image_url'].apply(lambda x: get_large_url(x))\n",
    "books['original_title']=books['original_title'].str.title()"
   ]
  },
  {
   "cell_type": "code",
   "execution_count": 16,
   "metadata": {},
   "outputs": [
    {
     "data": {
      "text/html": [
       "<div>\n",
       "<style scoped>\n",
       "    .dataframe tbody tr th:only-of-type {\n",
       "        vertical-align: middle;\n",
       "    }\n",
       "\n",
       "    .dataframe tbody tr th {\n",
       "        vertical-align: top;\n",
       "    }\n",
       "\n",
       "    .dataframe thead th {\n",
       "        text-align: right;\n",
       "    }\n",
       "</style>\n",
       "<table border=\"1\" class=\"dataframe\">\n",
       "  <thead>\n",
       "    <tr style=\"text-align: right;\">\n",
       "      <th></th>\n",
       "      <th>book_id</th>\n",
       "      <th>title</th>\n",
       "      <th>original_title</th>\n",
       "      <th>authors</th>\n",
       "      <th>original_publication_year</th>\n",
       "      <th>average_rating</th>\n",
       "      <th>large_image_url</th>\n",
       "      <th>image_url</th>\n",
       "    </tr>\n",
       "  </thead>\n",
       "  <tbody>\n",
       "    <tr>\n",
       "      <th>1</th>\n",
       "      <td>2</td>\n",
       "      <td>Harry Potter and the Sorcerer's Stone (Harry P...</td>\n",
       "      <td>Harry Potter And The Philosopher'S Stone</td>\n",
       "      <td>J.K. Rowling, Mary GrandPré</td>\n",
       "      <td>1997.0</td>\n",
       "      <td>4.44</td>\n",
       "      <td>https://images.gr-assets.com/books/1474154022l...</td>\n",
       "      <td>https://images.gr-assets.com/books/1474154022m...</td>\n",
       "    </tr>\n",
       "    <tr>\n",
       "      <th>3</th>\n",
       "      <td>4</td>\n",
       "      <td>To Kill a Mockingbird</td>\n",
       "      <td>To Kill A Mockingbird</td>\n",
       "      <td>Harper Lee</td>\n",
       "      <td>1960.0</td>\n",
       "      <td>4.25</td>\n",
       "      <td>https://images.gr-assets.com/books/1361975680l...</td>\n",
       "      <td>https://images.gr-assets.com/books/1361975680m...</td>\n",
       "    </tr>\n",
       "  </tbody>\n",
       "</table>\n",
       "</div>"
      ],
      "text/plain": [
       "  book_id                                              title  \\\n",
       "1       2  Harry Potter and the Sorcerer's Stone (Harry P...   \n",
       "3       4                              To Kill a Mockingbird   \n",
       "\n",
       "                             original_title                      authors  \\\n",
       "1  Harry Potter And The Philosopher'S Stone  J.K. Rowling, Mary GrandPré   \n",
       "3                     To Kill A Mockingbird                   Harper Lee   \n",
       "\n",
       "  original_publication_year average_rating  \\\n",
       "1                    1997.0           4.44   \n",
       "3                    1960.0           4.25   \n",
       "\n",
       "                                     large_image_url  \\\n",
       "1  https://images.gr-assets.com/books/1474154022l...   \n",
       "3  https://images.gr-assets.com/books/1361975680l...   \n",
       "\n",
       "                                           image_url  \n",
       "1  https://images.gr-assets.com/books/1474154022m...  \n",
       "3  https://images.gr-assets.com/books/1361975680m...  "
      ]
     },
     "execution_count": 16,
     "metadata": {},
     "output_type": "execute_result"
    }
   ],
   "source": [
    "id=[2,4]\n",
    "id=[str(x) for x in id]\n",
    "books[books['book_id'].isin(id)][[\"book_id\",\n",
    "                \"title\",\n",
    "                \"original_title\",\n",
    "                \"authors\",\n",
    "                \"original_publication_year\",\n",
    "                \"average_rating\",\n",
    "                \"large_image_url\",\n",
    "                \"image_url\",]]"
   ]
  },
  {
   "cell_type": "code",
   "execution_count": 9,
   "metadata": {},
   "outputs": [
    {
     "data": {
      "text/plain": [
       "[{'title': 'Ouran High School Host Club, Vol. 15 (Ouran High School Host Club, #15)',\n",
       "  'original_title': '桜蘭高校ホスト部 15',\n",
       "  'authors': 'Bisco Hatori',\n",
       "  'original_publication_year': '2009.0',\n",
       "  'average_rating': '4.54',\n",
       "  'large_image_url': 'https://s.gr-assets.com/assets/nophoto/book/50x75-a91bf249278a81aabab721ef782c4a74.png',\n",
       "  'image_url': 'https://s.gr-assets.com/assets/nophoto/book/111x148-bcc042a9c91a29c1d680899eff700a03.png'},\n",
       " {'title': 'Vampireville (Vampire Kisses, #3)',\n",
       "  'original_title': 'Vampireville (Vampire Kisses, #3)',\n",
       "  'authors': 'Ellen Schreiber',\n",
       "  'original_publication_year': '2006.0',\n",
       "  'average_rating': '3.92',\n",
       "  'large_image_url': 'https://s.gr-assets.com/assets/nophoto/book/50x75-a91bf249278a81aabab721ef782c4a74.png',\n",
       "  'image_url': 'https://s.gr-assets.com/assets/nophoto/book/111x148-bcc042a9c91a29c1d680899eff700a03.png'},\n",
       " {'title': 'The Red Badge of Courage',\n",
       "  'original_title': 'The Red Badge Of Courage',\n",
       "  'authors': 'Stephen Crane',\n",
       "  'original_publication_year': '1871.0',\n",
       "  'average_rating': '3.21',\n",
       "  'large_image_url': 'https://images.gr-assets.com/books/1327936136l/35220.jpg',\n",
       "  'image_url': 'https://images.gr-assets.com/books/1327936136m/35220.jpg'},\n",
       " {'title': 'Play with Me (With Me in Seattle, #3)',\n",
       "  'original_title': 'Play With Me',\n",
       "  'authors': 'Kristen Proby',\n",
       "  'original_publication_year': '2013.0',\n",
       "  'average_rating': '4.33',\n",
       "  'large_image_url': 'https://images.gr-assets.com/books/1360471559l/17201095.jpg',\n",
       "  'image_url': 'https://images.gr-assets.com/books/1360471559m/17201095.jpg'},\n",
       " {'title': 'Imagine: How Creativity Works',\n",
       "  'original_title': '',\n",
       "  'authors': 'Jonah Lehrer',\n",
       "  'original_publication_year': '2012.0',\n",
       "  'average_rating': '3.75',\n",
       "  'large_image_url': 'https://images.gr-assets.com/books/1327000473l/12987640.jpg',\n",
       "  'image_url': 'https://images.gr-assets.com/books/1327000473m/12987640.jpg'},\n",
       " {'title': \"What's So Amazing About Grace?\",\n",
       "  'original_title': \"What'S So Amazing About Grace?\",\n",
       "  'authors': 'Philip Yancey',\n",
       "  'original_publication_year': '1997.0',\n",
       "  'average_rating': '4.21',\n",
       "  'large_image_url': 'https://images.gr-assets.com/books/1328050483l/53817.jpg',\n",
       "  'image_url': 'https://images.gr-assets.com/books/1328050483m/53817.jpg'},\n",
       " {'title': 'The Atlantis World (The Origin Mystery, #3)',\n",
       "  'original_title': 'The Atlantis World',\n",
       "  'authors': 'A.G. Riddle',\n",
       "  'original_publication_year': '2014.0',\n",
       "  'average_rating': '3.93',\n",
       "  'large_image_url': 'https://s.gr-assets.com/assets/nophoto/book/50x75-a91bf249278a81aabab721ef782c4a74.png',\n",
       "  'image_url': 'https://s.gr-assets.com/assets/nophoto/book/111x148-bcc042a9c91a29c1d680899eff700a03.png'},\n",
       " {'title': 'The Social Contract',\n",
       "  'original_title': 'Du Contrat Social: Ou Principes Du Droit Politique',\n",
       "  'authors': 'Jean-Jacques Rousseau, Maurice Cranston',\n",
       "  'original_publication_year': '1762.0',\n",
       "  'average_rating': '3.75',\n",
       "  'large_image_url': 'https://s.gr-assets.com/assets/nophoto/book/50x75-a91bf249278a81aabab721ef782c4a74.png',\n",
       "  'image_url': 'https://s.gr-assets.com/assets/nophoto/book/111x148-bcc042a9c91a29c1d680899eff700a03.png'},\n",
       " {'title': 'The Prefect (Prefect Dreyfus Emergency, #1)',\n",
       "  'original_title': 'The Prefect',\n",
       "  'authors': 'Alastair Reynolds',\n",
       "  'original_publication_year': '2007.0',\n",
       "  'average_rating': '4.15',\n",
       "  'large_image_url': 'https://images.gr-assets.com/books/1327988786l/89195.jpg',\n",
       "  'image_url': 'https://images.gr-assets.com/books/1327988786m/89195.jpg'},\n",
       " {'title': 'A Girl of the Limberlost (Limberlost, #2)',\n",
       "  'original_title': 'A Girl Of The Limberlost',\n",
       "  'authors': 'Gene Stratton-Porter',\n",
       "  'original_publication_year': '1909.0',\n",
       "  'average_rating': '4.14',\n",
       "  'large_image_url': 'https://s.gr-assets.com/assets/nophoto/book/50x75-a91bf249278a81aabab721ef782c4a74.png',\n",
       "  'image_url': 'https://s.gr-assets.com/assets/nophoto/book/111x148-bcc042a9c91a29c1d680899eff700a03.png'}]"
      ]
     },
     "execution_count": 9,
     "metadata": {},
     "output_type": "execute_result"
    }
   ],
   "source": [
    "import random\n",
    "idx=random.sample(range(0,books.shape[0]),k=10)\n",
    "\n",
    "books.loc[idx,[\"title\",\"original_title\",\"authors\",\"original_publication_year\",\"average_rating\",\"large_image_url\",\"image_url\"]].to_dict(orient='records')"
   ]
  },
  {
   "cell_type": "code",
   "execution_count": 14,
   "metadata": {},
   "outputs": [
    {
     "data": {
      "text/plain": [
       "[{'title': 'A Court of Mist and Fury (A Court of Thorns and Roses, #2)',\n",
       "  'original_title': 'A Court Of Mist And Fury',\n",
       "  'authors': 'Sarah J. Maas',\n",
       "  'original_publication_year': '2016.0',\n",
       "  'average_rating': '4.72',\n",
       "  'large_image_url': 'https://images.gr-assets.com/books/1485259138l/17927395.jpg',\n",
       "  'image_url': 'https://images.gr-assets.com/books/1485259138m/17927395.jpg'},\n",
       " {'title': 'The Way of Kings, Part 1 (The Stormlight Archive #1.1)',\n",
       "  'original_title': 'The Way Of Kings, Part 1',\n",
       "  'authors': 'Brandon Sanderson',\n",
       "  'original_publication_year': '2011.0',\n",
       "  'average_rating': '4.67',\n",
       "  'large_image_url': 'https://images.gr-assets.com/books/1357609842l/9329354.jpg',\n",
       "  'image_url': 'https://images.gr-assets.com/books/1357609842m/9329354.jpg'},\n",
       " {'title': 'A Song of Ice and Fire (A Song of Ice and Fire, #1-4)',\n",
       "  'original_title': '',\n",
       "  'authors': 'George R.R. Martin',\n",
       "  'original_publication_year': '2011.0',\n",
       "  'average_rating': '4.63',\n",
       "  'large_image_url': 'https://images.gr-assets.com/books/1328046798l/9814682.jpg',\n",
       "  'image_url': 'https://images.gr-assets.com/books/1328046798m/9814682.jpg'},\n",
       " {'title': 'Holy Bible: New International Version',\n",
       "  'original_title': 'Holy Bible: New International Version',\n",
       "  'authors': 'Anonymous',\n",
       "  'original_publication_year': '1909.0',\n",
       "  'average_rating': '4.61',\n",
       "  'large_image_url': 'https://images.gr-assets.com/books/1382581321l/280111.jpg',\n",
       "  'image_url': 'https://images.gr-assets.com/books/1382581321m/280111.jpg'},\n",
       " {'title': \"Ender's Game, Volume 2: Command School\",\n",
       "  'original_title': '',\n",
       "  'authors': 'Christopher Yost, Pasqual Ferry, Orson Scott Card',\n",
       "  'original_publication_year': '2010.0',\n",
       "  'average_rating': '4.6',\n",
       "  'large_image_url': 'https://s.gr-assets.com/assets/nophoto/book/50x75-a91bf249278a81aabab721ef782c4a74.png',\n",
       "  'image_url': 'https://s.gr-assets.com/assets/nophoto/book/111x148-bcc042a9c91a29c1d680899eff700a03.png'},\n",
       " {'title': 'A Game of Thrones: Comic Book, Issue 1',\n",
       "  'original_title': 'A Song Of Ice And Fire Graphic Novels',\n",
       "  'authors': 'Daniel Abraham, George R.R. Martin, Tommy Patterson',\n",
       "  'original_publication_year': '2011.0',\n",
       "  'average_rating': '4.65',\n",
       "  'large_image_url': 'https://images.gr-assets.com/books/1376738412l/18337259.jpg',\n",
       "  'image_url': 'https://images.gr-assets.com/books/1376738412m/18337259.jpg'},\n",
       " {'title': 'Harry Potter and the Deathly Hallows (Harry Potter, #7)',\n",
       "  'original_title': 'Harry Potter And The Deathly Hallows',\n",
       "  'authors': 'J.K. Rowling, Mary GrandPré',\n",
       "  'original_publication_year': '2007.0',\n",
       "  'average_rating': '4.61',\n",
       "  'large_image_url': 'https://images.gr-assets.com/books/1474171184l/136251.jpg',\n",
       "  'image_url': 'https://images.gr-assets.com/books/1474171184m/136251.jpg'},\n",
       " {'title': 'Life Application Study Bible: NIV',\n",
       "  'original_title': '',\n",
       "  'authors': 'Anonymous, Ronald A. Beers, Ronald A. Beers',\n",
       "  'original_publication_year': '1992.0',\n",
       "  'average_rating': '4.67',\n",
       "  'large_image_url': 'https://s.gr-assets.com/assets/nophoto/book/50x75-a91bf249278a81aabab721ef782c4a74.png',\n",
       "  'image_url': 'https://s.gr-assets.com/assets/nophoto/book/111x148-bcc042a9c91a29c1d680899eff700a03.png'},\n",
       " {'title': 'Harry Potter Boxset (Harry Potter, #1-7)',\n",
       "  'original_title': 'Complete Harry Potter Boxed Set',\n",
       "  'authors': 'J.K. Rowling',\n",
       "  'original_publication_year': '1998.0',\n",
       "  'average_rating': '4.74',\n",
       "  'large_image_url': 'https://images.gr-assets.com/books/1392579059l/862041.jpg',\n",
       "  'image_url': 'https://images.gr-assets.com/books/1392579059m/862041.jpg'},\n",
       " {'title': 'The Complete Calvin and Hobbes',\n",
       "  'original_title': 'The Complete Calvin And Hobbes',\n",
       "  'authors': 'Bill Watterson',\n",
       "  'original_publication_year': '2005.0',\n",
       "  'average_rating': '4.82',\n",
       "  'large_image_url': 'https://images.gr-assets.com/books/1473064526l/24812.jpg',\n",
       "  'image_url': 'https://images.gr-assets.com/books/1473064526m/24812.jpg'}]"
      ]
     },
     "execution_count": 14,
     "metadata": {},
     "output_type": "execute_result"
    }
   ],
   "source": [
    "import random\n",
    "top_books=books.sort_values(by=\"average_rating\",ascending=False).head(50).reset_index()\n",
    "idx=random.sample(range(0,top_books.shape[0]),k=10)\n",
    "top_books.loc[idx,[\"title\",\"original_title\",\"authors\",\"original_publication_year\",\"average_rating\",\"large_image_url\",\"image_url\"]].to_dict(orient='records')"
   ]
  },
  {
   "cell_type": "code",
   "execution_count": 36,
   "metadata": {},
   "outputs": [
    {
     "data": {
      "text/plain": [
       "[{'title': 'Twilight (Twilight, #1)',\n",
       "  'original_title': 'Twilight',\n",
       "  'authors': 'Stephenie Meyer',\n",
       "  'original_publication_year': '2005.0',\n",
       "  'average_rating': '3.57',\n",
       "  'large_image_url': 'https://images.gr-assets.com/books/1361039443l/41865.jpg',\n",
       "  'image_url': 'https://images.gr-assets.com/books/1361039443m/41865.jpg'},\n",
       " {'title': 'New Moon (Twilight, #2)',\n",
       "  'original_title': 'New Moon (Twilight, #2)',\n",
       "  'authors': 'Stephenie Meyer',\n",
       "  'original_publication_year': '2006.0',\n",
       "  'average_rating': '3.52',\n",
       "  'large_image_url': 'https://images.gr-assets.com/books/1361039440l/49041.jpg',\n",
       "  'image_url': 'https://images.gr-assets.com/books/1361039440m/49041.jpg'},\n",
       " {'title': 'Twilight: The Complete Illustrated Movie Companion',\n",
       "  'original_title': 'Twilight: The Complete Illustrated Movie Companion',\n",
       "  'authors': 'Mark Cotta Vaz',\n",
       "  'original_publication_year': '',\n",
       "  'average_rating': '4.23',\n",
       "  'large_image_url': 'https://images.gr-assets.com/books/1352539022l/3609760.jpg',\n",
       "  'image_url': 'https://images.gr-assets.com/books/1352539022m/3609760.jpg'},\n",
       " {'title': \"Twilight Director's Notebook : The Story of How We Made the Movie Based on the Novel by Stephenie Meyer\",\n",
       "  'original_title': \"Twilight Director'S Notebook\",\n",
       "  'authors': 'Catherine Hardwicke',\n",
       "  'original_publication_year': '2009.0',\n",
       "  'average_rating': '4.2',\n",
       "  'large_image_url': 'https://s.gr-assets.com/assets/nophoto/book/50x75-a91bf249278a81aabab721ef782c4a74.png',\n",
       "  'image_url': 'https://s.gr-assets.com/assets/nophoto/book/111x148-bcc042a9c91a29c1d680899eff700a03.png'},\n",
       " {'title': 'Dragons of Autumn Twilight  (Dragonlance: Chronicles, #1)',\n",
       "  'original_title': 'Dragons Of Autumn Twilight',\n",
       "  'authors': 'Margaret Weis, Tracy Hickman',\n",
       "  'original_publication_year': '1984.0',\n",
       "  'average_rating': '4.03',\n",
       "  'large_image_url': 'https://images.gr-assets.com/books/1390668127l/259836.jpg',\n",
       "  'image_url': 'https://images.gr-assets.com/books/1390668127m/259836.jpg'},\n",
       " {'title': 'Crossroads of Twilight (Wheel of Time, #10)',\n",
       "  'original_title': 'Crossroads Of Twilight',\n",
       "  'authors': 'Robert Jordan',\n",
       "  'original_publication_year': '2003.0',\n",
       "  'average_rating': '3.82',\n",
       "  'large_image_url': 'https://images.gr-assets.com/books/1408325146l/113435.jpg',\n",
       "  'image_url': 'https://images.gr-assets.com/books/1408325146m/113435.jpg'},\n",
       " {'title': 'The Twilight Collection (Twilight, #1-3)',\n",
       "  'original_title': 'The Twilight Collection (Twilight, #1-3)',\n",
       "  'authors': 'Stephenie Meyer',\n",
       "  'original_publication_year': '2007.0',\n",
       "  'average_rating': '3.78',\n",
       "  'large_image_url': 'https://s.gr-assets.com/assets/nophoto/book/50x75-a91bf249278a81aabab721ef782c4a74.png',\n",
       "  'image_url': 'https://s.gr-assets.com/assets/nophoto/book/111x148-bcc042a9c91a29c1d680899eff700a03.png'},\n",
       " {'title': 'Twilight: The Graphic Novel, Vol. 1 (Twilight: The Graphic Novel, #1)',\n",
       "  'original_title': 'Twilight: The Graphic Novel',\n",
       "  'authors': 'Young Kim, Stephenie Meyer',\n",
       "  'original_publication_year': '2010.0',\n",
       "  'average_rating': '3.74',\n",
       "  'large_image_url': 'https://images.gr-assets.com/books/1317294278l/7619292.jpg',\n",
       "  'image_url': 'https://images.gr-assets.com/books/1317294278m/7619292.jpg'},\n",
       " {'title': 'The Twilight Saga: The Official Illustrated Guide (Twilight, #4.5)',\n",
       "  'original_title': 'The Twilight Saga: The Official Guide',\n",
       "  'authors': 'Stephenie Meyer',\n",
       "  'original_publication_year': '2011.0',\n",
       "  'average_rating': '4.23',\n",
       "  'large_image_url': 'https://images.gr-assets.com/books/1344265906l/3609763.jpg',\n",
       "  'image_url': 'https://images.gr-assets.com/books/1344265906m/3609763.jpg'},\n",
       " {'title': 'Twilight (The Mediator, #6)',\n",
       "  'original_title': 'Twilight',\n",
       "  'authors': 'Meg Cabot',\n",
       "  'original_publication_year': '2005.0',\n",
       "  'average_rating': '4.26',\n",
       "  'large_image_url': 'https://images.gr-assets.com/books/1327959055l/93724.jpg',\n",
       "  'image_url': 'https://images.gr-assets.com/books/1327959055m/93724.jpg'}]"
      ]
     },
     "execution_count": 36,
     "metadata": {},
     "output_type": "execute_result"
    }
   ],
   "source": [
    "paramerter='twilight'\n",
    "n=10\n",
    "search=pd.read_sql(f'''SELECT * from books where original_title like \"%{paramerter}%\"''',con)\n",
    "search['large_image_url']=search['small_image_url'].apply(lambda x: get_large_url(x))\n",
    "search['original_title']=search['original_title'].str.title()\n",
    "search=search.reset_index()\n",
    "search.head(10).loc[:,[\"title\",\"original_title\",\"authors\",\"original_publication_year\",\"average_rating\",\"large_image_url\",\"image_url\"]].to_dict(orient='records')\n"
   ]
  },
  {
   "attachments": {},
   "cell_type": "markdown",
   "metadata": {},
   "source": [
    "## Recommendations"
   ]
  },
  {
   "cell_type": "code",
   "execution_count": 46,
   "metadata": {},
   "outputs": [
    {
     "data": {
      "text/plain": [
       "array([[1.        , 0.13230871, 0.17136512, ..., 0.00281784, 0.02760113,\n",
       "        0.00809529],\n",
       "       [0.13230871, 1.        , 0.17398473, ..., 0.00444509, 0.01486211,\n",
       "        0.02673108],\n",
       "       [0.17136512, 0.17398473, 1.        , ..., 0.01057751, 0.00779058,\n",
       "        0.01187568],\n",
       "       ...,\n",
       "       [0.00281784, 0.00444509, 0.01057751, ..., 1.        , 0.01805473,\n",
       "        0.03803818],\n",
       "       [0.02760113, 0.01486211, 0.00779058, ..., 0.01805473, 1.        ,\n",
       "        0.007437  ],\n",
       "       [0.00809529, 0.02673108, 0.01187568, ..., 0.03803818, 0.007437  ,\n",
       "        1.        ]])"
      ]
     },
     "execution_count": 46,
     "metadata": {},
     "output_type": "execute_result"
    }
   ],
   "source": [
    "from sklearn.feature_extraction.text import TfidfVectorizer\n",
    "from sklearn.feature_extraction.text import CountVectorizer\n",
    "from sklearn.metrics.pairwise import cosine_similarity\n",
    "\n",
    "tf_overall = TfidfVectorizer(\n",
    "    analyzer=\"word\", ngram_range=(1, 2), min_df=0, stop_words=\"english\"\n",
    ")\n",
    "tf_matrix_overall = tf_overall.fit_transform(books[\"tag_name\"])\n",
    "cosine_similarities = cosine_similarity(tf_matrix_overall, tf_matrix_overall)\n"
   ]
  },
  {
   "cell_type": "code",
   "execution_count": 100,
   "metadata": {},
   "outputs": [],
   "source": [
    "results = {}\n",
    "for idx, row in books.iterrows():\n",
    "    similar_indices = cosine_similarities[idx].argsort()[:-100:-1] \n",
    "    similar_items = [(cosine_similarities[idx][i], books['book_id'].iloc[[i]].tolist()[0]) for i in similar_indices] \n",
    "    results[idx] = similar_items[1:]"
   ]
  },
  {
   "cell_type": "code",
   "execution_count": 109,
   "metadata": {},
   "outputs": [],
   "source": [
    "import json\n",
    "# save cosine sim to file\n",
    "with open('recommendation_results.json', 'w', encoding='utf-8') as f:\n",
    "    json.dump(results, f, ensure_ascii=False, indent=4)\n",
    "# results=json.loads('recommendation_results.json')"
   ]
  },
  {
   "cell_type": "code",
   "execution_count": 104,
   "metadata": {},
   "outputs": [],
   "source": [
    "with open('recommendation_results.json', 'r') as j:\n",
    "     contents = json.loads(j.read())"
   ]
  },
  {
   "cell_type": "code",
   "execution_count": 106,
   "metadata": {},
   "outputs": [
    {
     "ename": "KeyError",
     "evalue": "0",
     "output_type": "error",
     "traceback": [
      "\u001b[0;31m---------------------------------------------------------------------------\u001b[0m",
      "\u001b[0;31mKeyError\u001b[0m                                  Traceback (most recent call last)",
      "\u001b[0;32m/tmp/ipykernel_4515/460118211.py\u001b[0m in \u001b[0;36m<module>\u001b[0;34m\u001b[0m\n\u001b[0;32m----> 1\u001b[0;31m \u001b[0mcontents\u001b[0m\u001b[0;34m[\u001b[0m\u001b[0;36m0\u001b[0m\u001b[0;34m]\u001b[0m\u001b[0;34m\u001b[0m\u001b[0;34m\u001b[0m\u001b[0m\n\u001b[0m",
      "\u001b[0;31mKeyError\u001b[0m: 0"
     ]
    }
   ],
   "source": []
  },
  {
   "cell_type": "code",
   "execution_count": 61,
   "metadata": {},
   "outputs": [],
   "source": [
    "def item(id):  \n",
    "    return books.loc[books['book_id'] == id]['original_title'].tolist()[0].split(' - ')[0] \n",
    "def book_id(id):  \n",
    "    return books.loc[books[''] == id]['original_title'].tolist()[0].split(' - ')[0] \n",
    "def get_idx(id):\n",
    "    return books[books['book_id'] == id].index.tolist()[0]"
   ]
  },
  {
   "cell_type": "code",
   "execution_count": 62,
   "metadata": {},
   "outputs": [],
   "source": [
    "# Finally we put everything together here:\n",
    "def recommend(item_id, num):\n",
    "    print(\"Recommending \" + str(num) + \" products similar to \" + item(item_id) + \"...\")   \n",
    "    print(\"-------\")    \n",
    "    recs = results[get_idx(item_id)][:num]   \n",
    "    for rec in recs: \n",
    "        print(\"\\tRecommended: \" + item(rec[1]) + \" (score:\" +      str(rec[0]) + \")\")"
   ]
  },
  {
   "cell_type": "code",
   "execution_count": 108,
   "metadata": {},
   "outputs": [],
   "source": [
    "r=results[books[books['goodreads_book_id'] == \"2767052\"].index.tolist()[0]][:10]\n"
   ]
  },
  {
   "cell_type": "code",
   "execution_count": 92,
   "metadata": {},
   "outputs": [
    {
     "data": {
      "text/plain": [
       "['20', '17', '507', '12', '69', '717', '1355', '187', '1398', '327']"
      ]
     },
     "execution_count": 92,
     "metadata": {},
     "output_type": "execute_result"
    }
   ],
   "source": [
    "import functools\n",
    "import operator\n",
    "functools.reduce(operator.iconcat, r, [])[1::2]"
   ]
  },
  {
   "cell_type": "code",
   "execution_count": null,
   "metadata": {},
   "outputs": [],
   "source": []
  }
 ],
 "metadata": {
  "kernelspec": {
   "display_name": "p_3.7",
   "language": "python",
   "name": "python3"
  },
  "language_info": {
   "codemirror_mode": {
    "name": "ipython",
    "version": 3
   },
   "file_extension": ".py",
   "mimetype": "text/x-python",
   "name": "python",
   "nbconvert_exporter": "python",
   "pygments_lexer": "ipython3",
   "version": "3.7.15 (default, Nov 24 2022, 21:12:53) \n[GCC 11.2.0]"
  },
  "orig_nbformat": 4,
  "vscode": {
   "interpreter": {
    "hash": "f2c6a7e3ad469f56509d890e5a4ff7a836688b8b9c3ee88da1ef1415bc2f2ed8"
   }
  }
 },
 "nbformat": 4,
 "nbformat_minor": 2
}
